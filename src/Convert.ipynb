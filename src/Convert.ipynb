{
 "cells": [
  {
   "cell_type": "code",
   "execution_count": 1,
   "metadata": {},
   "outputs": [],
   "source": [
    "import sys\n",
    "import os\n",
    "import pwd\n",
    "user = pwd.getpwuid(os.getuid())[0]\n",
    "sys.path.append(rf\"{user}/Flash2OpenPMD/src\")\n",
    "import yt\n",
    "import numpy as np\n",
    "import glob\n",
    "from flash2openpmd import Convert"
   ]
  },
  {
   "cell_type": "code",
   "execution_count": 2,
   "metadata": {},
   "outputs": [
    {
     "name": "stderr",
     "output_type": "stream",
     "text": [
      "yt : [INFO     ] 2024-04-15 14:21:25,976 Parameters: current_time              = 2.40033142672008e-10\n",
      "yt : [INFO     ] 2024-04-15 14:21:25,977 Parameters: domain_dimensions         = [16 16  1]\n",
      "yt : [INFO     ] 2024-04-15 14:21:25,978 Parameters: domain_left_edge          = [-0.0015  0.      0.    ]\n",
      "yt : [INFO     ] 2024-04-15 14:21:25,979 Parameters: domain_right_edge         = [0.0015 0.003  1.    ]\n",
      "yt : [INFO     ] 2024-04-15 14:21:25,980 Parameters: cosmological_simulation   = 0\n"
     ]
    },
    {
     "name": "stdout",
     "output_type": "stream",
     "text": [
      "tilted_hdf5_plt_cnt_0046\n",
      "level\t# grids\t       # cells\t     # cells^3\n",
      "----------------------------------------------\n",
      "  0\t     1\t           256\t             7\n",
      "  1\t     4\t          1024\t            11\n",
      "  2\t    16\t          4096\t            16\n",
      "  3\t    64\t         16384\t            26\n",
      "  4\t   184\t         47104\t            37\n",
      "  5\t   480\t        122880\t            50\n",
      "----------------------------------------------\n",
      "   \t   749\t        191744\n",
      "\n",
      "\n",
      "t = 2.40033143e-10 code_time = 2.40033143e-10 s = 7.60619130e-18 yr\n",
      "\n",
      "Smallest Cell:\n",
      "\tWidth: 1.899e-30 Mpc\n",
      "\tWidth: 1.899e-24 pc\n",
      "\tWidth: 3.917e-19 AU\n",
      "\tWidth: 5.859e-06 cm\n",
      "    \n",
      "nx = 256, ny = 256\n",
      "    \n",
      "    \n",
      "n_xnew = 2040, n_ynew = 2040\n",
      "    \n"
     ]
    }
   ],
   "source": [
    "run_directory = '/media/ong/WORKDIR11/Laser_Tilted_3/'\n",
    "\n",
    "step = 46\n",
    "\n",
    "filename = glob.glob1(run_directory,\"*_hdf5_plt_cnt_\"+str(int(step)).zfill(4))\n",
    "\n",
    "print(filename[0])\n",
    "\n",
    "ts = Convert(\n",
    "    run_directory,\n",
    "    filename[0],\n",
    "    # left_edge=[-0.004,0.85e-4,-0.004],\n",
    "    # right_edge=[0.004,20e-4,0.004],\n",
    "    )\n",
    "\n",
    "density = ts.get_data(refinex = 8, refiney = 8) #minimum valueas for x and y\n",
    "\n",
    "ts.write2openpmd(density)"
   ]
  },
  {
   "cell_type": "code",
   "execution_count": null,
   "metadata": {},
   "outputs": [],
   "source": []
  }
 ],
 "metadata": {
  "kernelspec": {
   "display_name": "flash",
   "language": "python",
   "name": "python3"
  },
  "language_info": {
   "codemirror_mode": {
    "name": "ipython",
    "version": 3
   },
   "file_extension": ".py",
   "mimetype": "text/x-python",
   "name": "python",
   "nbconvert_exporter": "python",
   "pygments_lexer": "ipython3",
   "version": "3.8.12"
  }
 },
 "nbformat": 4,
 "nbformat_minor": 2
}
